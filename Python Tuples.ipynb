{
 "cells": [
  {
   "cell_type": "code",
   "execution_count": 1,
   "id": "c11cc8a7",
   "metadata": {},
   "outputs": [],
   "source": [
    "# Tuple in python\n",
    "\n",
    "tup1=()\n"
   ]
  },
  {
   "cell_type": "code",
   "execution_count": 2,
   "id": "95b4761e",
   "metadata": {},
   "outputs": [
    {
     "data": {
      "text/plain": [
       "tuple"
      ]
     },
     "execution_count": 2,
     "metadata": {},
     "output_type": "execute_result"
    }
   ],
   "source": [
    "type(tup1)"
   ]
  },
  {
   "cell_type": "code",
   "execution_count": 5,
   "id": "e7a9c219",
   "metadata": {},
   "outputs": [],
   "source": [
    "tup1=('cs', 'badhon parvej', 1,2,3,4,6,[10,20,100],True)"
   ]
  },
  {
   "cell_type": "code",
   "execution_count": 6,
   "id": "3ddc351e",
   "metadata": {},
   "outputs": [
    {
     "data": {
      "text/plain": [
       "('cs', 'badhon parvej', 1, 2, 3, 4, 6, [10, 20, 100], True)"
      ]
     },
     "execution_count": 6,
     "metadata": {},
     "output_type": "execute_result"
    }
   ],
   "source": [
    "tup1"
   ]
  },
  {
   "cell_type": "code",
   "execution_count": 8,
   "id": "59a30097",
   "metadata": {},
   "outputs": [
    {
     "data": {
      "text/plain": [
       "'badhon parvej'"
      ]
     },
     "execution_count": 8,
     "metadata": {},
     "output_type": "execute_result"
    }
   ],
   "source": [
    "tup1[1]"
   ]
  },
  {
   "cell_type": "code",
   "execution_count": 10,
   "id": "e4acfe1a",
   "metadata": {},
   "outputs": [
    {
     "data": {
      "text/plain": [
       "True"
      ]
     },
     "execution_count": 10,
     "metadata": {},
     "output_type": "execute_result"
    }
   ],
   "source": [
    "tup1[-1]"
   ]
  },
  {
   "cell_type": "code",
   "execution_count": 69,
   "id": "092104f6",
   "metadata": {},
   "outputs": [],
   "source": [
    "tup2=['Parvej badhon',12] #3rd backet fact for list"
   ]
  },
  {
   "cell_type": "code",
   "execution_count": 70,
   "id": "793f76e9",
   "metadata": {},
   "outputs": [
    {
     "data": {
      "text/plain": [
       "['Parvej badhon', 12]"
      ]
     },
     "execution_count": 70,
     "metadata": {},
     "output_type": "execute_result"
    }
   ],
   "source": [
    "tup2"
   ]
  },
  {
   "cell_type": "code",
   "execution_count": 71,
   "id": "9aa1be8d",
   "metadata": {},
   "outputs": [
    {
     "data": {
      "text/plain": [
       "list"
      ]
     },
     "execution_count": 71,
     "metadata": {},
     "output_type": "execute_result"
    }
   ],
   "source": [
    "type(tup2) #this tup2 is list."
   ]
  },
  {
   "cell_type": "code",
   "execution_count": 72,
   "id": "869ea493",
   "metadata": {},
   "outputs": [
    {
     "data": {
      "text/plain": [
       "tuple"
      ]
     },
     "execution_count": 72,
     "metadata": {},
     "output_type": "execute_result"
    }
   ],
   "source": [
    "type(tup1)"
   ]
  },
  {
   "cell_type": "code",
   "execution_count": 73,
   "id": "81446cad",
   "metadata": {},
   "outputs": [
    {
     "data": {
      "text/plain": [
       "(1, 2)"
      ]
     },
     "execution_count": 73,
     "metadata": {},
     "output_type": "execute_result"
    }
   ],
   "source": [
    "tup3=(1,2)\n",
    "tup3"
   ]
  },
  {
   "cell_type": "code",
   "execution_count": 74,
   "id": "c612e85e",
   "metadata": {},
   "outputs": [
    {
     "data": {
      "text/plain": [
       "tuple"
      ]
     },
     "execution_count": 74,
     "metadata": {},
     "output_type": "execute_result"
    }
   ],
   "source": [
    "type(tup3)"
   ]
  },
  {
   "cell_type": "code",
   "execution_count": 75,
   "id": "09d570e5",
   "metadata": {},
   "outputs": [],
   "source": [
    "#tuple to list\n",
    "\n",
    "lis=list(tup3)"
   ]
  },
  {
   "cell_type": "code",
   "execution_count": 76,
   "id": "07f284ed",
   "metadata": {},
   "outputs": [
    {
     "data": {
      "text/plain": [
       "[1, 2]"
      ]
     },
     "execution_count": 76,
     "metadata": {},
     "output_type": "execute_result"
    }
   ],
   "source": [
    "lis"
   ]
  },
  {
   "cell_type": "code",
   "execution_count": 77,
   "id": "dc6f5b34",
   "metadata": {},
   "outputs": [
    {
     "data": {
      "text/plain": [
       "list"
      ]
     },
     "execution_count": 77,
     "metadata": {},
     "output_type": "execute_result"
    }
   ],
   "source": [
    "type(lis)"
   ]
  },
  {
   "cell_type": "code",
   "execution_count": 78,
   "id": "8e2704fe",
   "metadata": {},
   "outputs": [],
   "source": [
    "lis.append('king')"
   ]
  },
  {
   "cell_type": "code",
   "execution_count": 79,
   "id": "cfd27ee9",
   "metadata": {},
   "outputs": [
    {
     "data": {
      "text/plain": [
       "[1, 2, 'king']"
      ]
     },
     "execution_count": 79,
     "metadata": {},
     "output_type": "execute_result"
    }
   ],
   "source": [
    "lis"
   ]
  },
  {
   "cell_type": "code",
   "execution_count": 80,
   "id": "0134f0ca",
   "metadata": {},
   "outputs": [],
   "source": [
    "tup3=tuple(lis)"
   ]
  },
  {
   "cell_type": "code",
   "execution_count": 81,
   "id": "037faaad",
   "metadata": {},
   "outputs": [
    {
     "data": {
      "text/plain": [
       "tuple"
      ]
     },
     "execution_count": 81,
     "metadata": {},
     "output_type": "execute_result"
    }
   ],
   "source": [
    "type(tup3)"
   ]
  },
  {
   "cell_type": "code",
   "execution_count": 82,
   "id": "068df93c",
   "metadata": {},
   "outputs": [
    {
     "data": {
      "text/plain": [
       "('cs', 'badhon parvej', 1, 2, 2, 3, 3, 4, 6, [10, 20, 100], True)"
      ]
     },
     "execution_count": 82,
     "metadata": {},
     "output_type": "execute_result"
    }
   ],
   "source": [
    "tup1"
   ]
  },
  {
   "cell_type": "code",
   "execution_count": 83,
   "id": "26b7d9bc",
   "metadata": {},
   "outputs": [],
   "source": [
    "tup1=('cs', 'badhon parvej', 1, 2,2,3, 3, 4, 6, [10, 20, 100], True)"
   ]
  },
  {
   "cell_type": "code",
   "execution_count": 84,
   "id": "c584f0dc",
   "metadata": {},
   "outputs": [
    {
     "data": {
      "text/plain": [
       "('cs', 'badhon parvej', 1, 2, 2, 3, 3, 4, 6, [10, 20, 100], True)"
      ]
     },
     "execution_count": 84,
     "metadata": {},
     "output_type": "execute_result"
    }
   ],
   "source": [
    "tup1 #tuple allow duplicate value"
   ]
  },
  {
   "cell_type": "code",
   "execution_count": 85,
   "id": "4b21f53f",
   "metadata": {},
   "outputs": [],
   "source": [
    "tup4=tuple([1,2,3,4])"
   ]
  },
  {
   "cell_type": "code",
   "execution_count": 86,
   "id": "8c8415a5",
   "metadata": {},
   "outputs": [
    {
     "data": {
      "text/plain": [
       "(1, 2, 3, 4)"
      ]
     },
     "execution_count": 86,
     "metadata": {},
     "output_type": "execute_result"
    }
   ],
   "source": [
    "tup4"
   ]
  },
  {
   "cell_type": "code",
   "execution_count": 87,
   "id": "61a4855a",
   "metadata": {},
   "outputs": [
    {
     "data": {
      "text/plain": [
       "tuple"
      ]
     },
     "execution_count": 87,
     "metadata": {},
     "output_type": "execute_result"
    }
   ],
   "source": [
    "type(tup4)"
   ]
  },
  {
   "cell_type": "code",
   "execution_count": 88,
   "id": "79015078",
   "metadata": {},
   "outputs": [],
   "source": [
    "tup5=1,2,3,4,'badhon'"
   ]
  },
  {
   "cell_type": "code",
   "execution_count": 89,
   "id": "688a45bd",
   "metadata": {},
   "outputs": [
    {
     "data": {
      "text/plain": [
       "(1, 2, 3, 4, 'badhon')"
      ]
     },
     "execution_count": 89,
     "metadata": {},
     "output_type": "execute_result"
    }
   ],
   "source": [
    "tup5"
   ]
  },
  {
   "cell_type": "code",
   "execution_count": 90,
   "id": "6059683c",
   "metadata": {},
   "outputs": [
    {
     "data": {
      "text/plain": [
       "tuple"
      ]
     },
     "execution_count": 90,
     "metadata": {},
     "output_type": "execute_result"
    }
   ],
   "source": [
    "type(tup5)"
   ]
  },
  {
   "cell_type": "code",
   "execution_count": 91,
   "id": "04bf5984",
   "metadata": {},
   "outputs": [
    {
     "data": {
      "text/plain": [
       "(1, 2, 3, 4)"
      ]
     },
     "execution_count": 91,
     "metadata": {},
     "output_type": "execute_result"
    }
   ],
   "source": [
    "tup4"
   ]
  },
  {
   "cell_type": "code",
   "execution_count": 92,
   "id": "ac8ed54c",
   "metadata": {},
   "outputs": [
    {
     "data": {
      "text/plain": [
       "(1, 2, 3, 4, 'badhon')"
      ]
     },
     "execution_count": 92,
     "metadata": {},
     "output_type": "execute_result"
    }
   ],
   "source": [
    "tup5"
   ]
  },
  {
   "cell_type": "code",
   "execution_count": 93,
   "id": "55c19556",
   "metadata": {},
   "outputs": [
    {
     "data": {
      "text/plain": [
       "(1, 2, 3, 4, 1, 2, 3, 4, 'badhon')"
      ]
     },
     "execution_count": 93,
     "metadata": {},
     "output_type": "execute_result"
    }
   ],
   "source": [
    "tup4+tup5 #tuple add"
   ]
  },
  {
   "cell_type": "code",
   "execution_count": 94,
   "id": "97ff2029",
   "metadata": {},
   "outputs": [
    {
     "data": {
      "text/plain": [
       "(1, 2, 3, 4, 1, 2, 3, 4)"
      ]
     },
     "execution_count": 94,
     "metadata": {},
     "output_type": "execute_result"
    }
   ],
   "source": [
    "tup4*2 #tuple multiply"
   ]
  },
  {
   "cell_type": "code",
   "execution_count": 95,
   "id": "3facbd2e",
   "metadata": {},
   "outputs": [
    {
     "data": {
      "text/plain": [
       "(1, 2, 3, 4)"
      ]
     },
     "execution_count": 95,
     "metadata": {},
     "output_type": "execute_result"
    }
   ],
   "source": [
    "tup4"
   ]
  },
  {
   "cell_type": "code",
   "execution_count": 96,
   "id": "ab2df4cc",
   "metadata": {},
   "outputs": [
    {
     "data": {
      "text/plain": [
       "1"
      ]
     },
     "execution_count": 96,
     "metadata": {},
     "output_type": "execute_result"
    }
   ],
   "source": [
    "tup5.count(4)"
   ]
  },
  {
   "cell_type": "code",
   "execution_count": 97,
   "id": "29c7fb5d",
   "metadata": {},
   "outputs": [],
   "source": [
    "tup6=tup4+tup5"
   ]
  },
  {
   "cell_type": "code",
   "execution_count": 98,
   "id": "ea7ab877",
   "metadata": {},
   "outputs": [
    {
     "data": {
      "text/plain": [
       "(1, 2, 3, 4, 1, 2, 3, 4, 'badhon')"
      ]
     },
     "execution_count": 98,
     "metadata": {},
     "output_type": "execute_result"
    }
   ],
   "source": [
    "tup6"
   ]
  },
  {
   "cell_type": "code",
   "execution_count": 99,
   "id": "e1c12572",
   "metadata": {},
   "outputs": [
    {
     "data": {
      "text/plain": [
       "2"
      ]
     },
     "execution_count": 99,
     "metadata": {},
     "output_type": "execute_result"
    }
   ],
   "source": [
    "tup6.count(4) #count "
   ]
  },
  {
   "cell_type": "code",
   "execution_count": 100,
   "id": "4d6b62f0",
   "metadata": {},
   "outputs": [
    {
     "data": {
      "text/plain": [
       "3"
      ]
     },
     "execution_count": 100,
     "metadata": {},
     "output_type": "execute_result"
    }
   ],
   "source": [
    "tup6.index(4)  #index"
   ]
  },
  {
   "cell_type": "code",
   "execution_count": 101,
   "id": "ef9829ff",
   "metadata": {},
   "outputs": [
    {
     "data": {
      "text/plain": [
       "False"
      ]
     },
     "execution_count": 101,
     "metadata": {},
     "output_type": "execute_result"
    }
   ],
   "source": [
    "#Membership\n",
    "\n",
    "'google' in tup6"
   ]
  },
  {
   "cell_type": "code",
   "execution_count": 102,
   "id": "2dfc037f",
   "metadata": {},
   "outputs": [
    {
     "data": {
      "text/plain": [
       "True"
      ]
     },
     "execution_count": 102,
     "metadata": {},
     "output_type": "execute_result"
    }
   ],
   "source": [
    "'badhon' in tup6"
   ]
  },
  {
   "cell_type": "code",
   "execution_count": 103,
   "id": "48944819",
   "metadata": {},
   "outputs": [
    {
     "data": {
      "text/plain": [
       "(1, 2, 3, 4, 1, 2, 3, 4, 'badhon')"
      ]
     },
     "execution_count": 103,
     "metadata": {},
     "output_type": "execute_result"
    }
   ],
   "source": [
    "tup6"
   ]
  },
  {
   "cell_type": "code",
   "execution_count": 104,
   "id": "e80b3b7c",
   "metadata": {},
   "outputs": [
    {
     "data": {
      "text/plain": [
       "['Parvej badhon', 12]"
      ]
     },
     "execution_count": 104,
     "metadata": {},
     "output_type": "execute_result"
    }
   ],
   "source": [
    "#tuple run faster than list\n",
    "tup2"
   ]
  },
  {
   "cell_type": "code",
   "execution_count": 106,
   "id": "3b90797c",
   "metadata": {},
   "outputs": [
    {
     "name": "stdout",
     "output_type": "stream",
     "text": [
      "1\n",
      "2\n",
      "3\n",
      "4\n",
      "1\n",
      "2\n",
      "3\n",
      "4\n",
      "badhon\n"
     ]
    }
   ],
   "source": [
    "\n",
    "\n",
    "for i in tup6:\n",
    "    print(i)"
   ]
  },
  {
   "cell_type": "code",
   "execution_count": 109,
   "id": "691d23c3",
   "metadata": {},
   "outputs": [
    {
     "data": {
      "text/plain": [
       "'b'"
      ]
     },
     "execution_count": 109,
     "metadata": {},
     "output_type": "execute_result"
    }
   ],
   "source": [
    "tup6[-1][0]\n"
   ]
  },
  {
   "cell_type": "code",
   "execution_count": 110,
   "id": "8678c152",
   "metadata": {},
   "outputs": [
    {
     "data": {
      "text/plain": [
       "(1, 2, 3, 4, 1, 2, 3, 4, 'badhon')"
      ]
     },
     "execution_count": 110,
     "metadata": {},
     "output_type": "execute_result"
    }
   ],
   "source": [
    "tup6"
   ]
  },
  {
   "cell_type": "code",
   "execution_count": null,
   "id": "294bd6bd",
   "metadata": {},
   "outputs": [],
   "source": []
  }
 ],
 "metadata": {
  "kernelspec": {
   "display_name": "Python 3 (ipykernel)",
   "language": "python",
   "name": "python3"
  },
  "language_info": {
   "codemirror_mode": {
    "name": "ipython",
    "version": 3
   },
   "file_extension": ".py",
   "mimetype": "text/x-python",
   "name": "python",
   "nbconvert_exporter": "python",
   "pygments_lexer": "ipython3",
   "version": "3.9.13"
  }
 },
 "nbformat": 4,
 "nbformat_minor": 5
}
